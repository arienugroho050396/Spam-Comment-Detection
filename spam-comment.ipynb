{
 "cells": [
  {
   "cell_type": "markdown",
   "id": "1d17a411",
   "metadata": {
    "id": "1d17a411"
   },
   "source": [
    "### Import Library"
   ]
  },
  {
   "cell_type": "code",
   "execution_count": 1,
   "id": "751a1711",
   "metadata": {
    "colab": {
     "base_uri": "https://localhost:8080/"
    },
    "executionInfo": {
     "elapsed": 5732,
     "status": "ok",
     "timestamp": 1661388708904,
     "user": {
      "displayName": "Marrisa Eka Mawarni",
      "userId": "07103622254165130888"
     },
     "user_tz": -420
    },
    "id": "751a1711",
    "outputId": "aab62c9c-2305-49d6-c96b-cb2ee6e45f0d"
   },
   "outputs": [
    {
     "name": "stderr",
     "output_type": "stream",
     "text": [
      "[nltk_data] Downloading package stopwords to\n",
      "[nltk_data]     C:\\Users\\Arie\\AppData\\Roaming\\nltk_data...\n",
      "[nltk_data]   Package stopwords is already up-to-date!\n",
      "[nltk_data] Downloading package punkt to\n",
      "[nltk_data]     C:\\Users\\Arie\\AppData\\Roaming\\nltk_data...\n",
      "[nltk_data]   Package punkt is already up-to-date!\n"
     ]
    }
   ],
   "source": [
    "import re                         \n",
    "import nltk                      \n",
    "import numpy as np\n",
    "import pandas as pd\n",
    "import seaborn as sns \n",
    "import matplotlib.pyplot as plt\n",
    "from pylab import rcParams\n",
    "from nltk.tokenize import word_tokenize # Tokenizing \n",
    "from nltk.corpus import stopwords #Remove Stopwords\n",
    "\n",
    "nltk.download('stopwords')\n",
    "nltk.download('punkt')\n",
    "stopwords = stopwords.words('english') \n",
    "\n",
    "\n",
    "%matplotlib inline\n",
    "rcParams['figure.figsize'] = 10, 6"
   ]
  },
  {
   "cell_type": "markdown",
   "id": "f793533f",
   "metadata": {
    "id": "f793533f"
   },
   "source": [
    "### Read Dataset "
   ]
  },
  {
   "cell_type": "code",
   "execution_count": 2,
   "id": "c9f3b460",
   "metadata": {
    "executionInfo": {
     "elapsed": 7,
     "status": "ok",
     "timestamp": 1661388908839,
     "user": {
      "displayName": "Marrisa Eka Mawarni",
      "userId": "07103622254165130888"
     },
     "user_tz": -420
    },
    "id": "c9f3b460"
   },
   "outputs": [],
   "source": [
    "df = pd.read_csv('comment-spam.csv')"
   ]
  },
  {
   "cell_type": "code",
   "execution_count": 3,
   "id": "8A8KasoXfvi_",
   "metadata": {
    "colab": {
     "base_uri": "https://localhost:8080/",
     "height": 206
    },
    "executionInfo": {
     "elapsed": 836,
     "status": "ok",
     "timestamp": 1661388929505,
     "user": {
      "displayName": "Marrisa Eka Mawarni",
      "userId": "07103622254165130888"
     },
     "user_tz": -420
    },
    "id": "8A8KasoXfvi_",
    "outputId": "ef3221d5-dac6-45d8-c941-333bcd000e8a"
   },
   "outputs": [
    {
     "data": {
      "text/html": [
       "<div>\n",
       "<style scoped>\n",
       "    .dataframe tbody tr th:only-of-type {\n",
       "        vertical-align: middle;\n",
       "    }\n",
       "\n",
       "    .dataframe tbody tr th {\n",
       "        vertical-align: top;\n",
       "    }\n",
       "\n",
       "    .dataframe thead th {\n",
       "        text-align: right;\n",
       "    }\n",
       "</style>\n",
       "<table border=\"1\" class=\"dataframe\">\n",
       "  <thead>\n",
       "    <tr style=\"text-align: right;\">\n",
       "      <th></th>\n",
       "      <th>No</th>\n",
       "      <th>Comment</th>\n",
       "      <th>Class</th>\n",
       "    </tr>\n",
       "  </thead>\n",
       "  <tbody>\n",
       "    <tr>\n",
       "      <th>0</th>\n",
       "      <td>1</td>\n",
       "      <td>this song is racist</td>\n",
       "      <td>0</td>\n",
       "    </tr>\n",
       "    <tr>\n",
       "      <th>1</th>\n",
       "      <td>2</td>\n",
       "      <td>and how many subscribers compared to her over ...</td>\n",
       "      <td>1</td>\n",
       "    </tr>\n",
       "    <tr>\n",
       "      <th>2</th>\n",
       "      <td>3</td>\n",
       "      <td>HI! CHECK OUT OUR AWESOME COVERS! AND SAY WHAT...</td>\n",
       "      <td>1</td>\n",
       "    </tr>\n",
       "    <tr>\n",
       "      <th>3</th>\n",
       "      <td>4</td>\n",
       "      <td>well done shakira</td>\n",
       "      <td>0</td>\n",
       "    </tr>\n",
       "    <tr>\n",
       "      <th>4</th>\n",
       "      <td>5</td>\n",
       "      <td>:D subscribe to me for daily vines</td>\n",
       "      <td>1</td>\n",
       "    </tr>\n",
       "  </tbody>\n",
       "</table>\n",
       "</div>"
      ],
      "text/plain": [
       "   No                                            Comment  Class\n",
       "0   1                                this song is racist      0\n",
       "1   2  and how many subscribers compared to her over ...      1\n",
       "2   3  HI! CHECK OUT OUR AWESOME COVERS! AND SAY WHAT...      1\n",
       "3   4                                  well done shakira      0\n",
       "4   5                 :D subscribe to me for daily vines      1"
      ]
     },
     "execution_count": 3,
     "metadata": {},
     "output_type": "execute_result"
    }
   ],
   "source": [
    "df.head()"
   ]
  },
  {
   "cell_type": "code",
   "execution_count": 4,
   "id": "-VYi3xv-f95P",
   "metadata": {
    "colab": {
     "base_uri": "https://localhost:8080/"
    },
    "executionInfo": {
     "elapsed": 695,
     "status": "ok",
     "timestamp": 1661388976905,
     "user": {
      "displayName": "Marrisa Eka Mawarni",
      "userId": "07103622254165130888"
     },
     "user_tz": -420
    },
    "id": "-VYi3xv-f95P",
    "outputId": "e37bcff2-745d-44f6-943a-42e8d0e1cbdd"
   },
   "outputs": [
    {
     "data": {
      "text/plain": [
       "1    669\n",
       "0    631\n",
       "Name: Class, dtype: int64"
      ]
     },
     "execution_count": 4,
     "metadata": {},
     "output_type": "execute_result"
    }
   ],
   "source": [
    "df['Class'].value_counts()"
   ]
  },
  {
   "cell_type": "markdown",
   "id": "784e7891",
   "metadata": {
    "id": "784e7891"
   },
   "source": [
    "### Text Preprocessing"
   ]
  },
  {
   "cell_type": "code",
   "execution_count": 5,
   "id": "534712b3",
   "metadata": {
    "executionInfo": {
     "elapsed": 531,
     "status": "ok",
     "timestamp": 1661389099700,
     "user": {
      "displayName": "Marrisa Eka Mawarni",
      "userId": "07103622254165130888"
     },
     "user_tz": -420
    },
    "id": "534712b3"
   },
   "outputs": [],
   "source": [
    "def clean_data(sentence):\n",
    "  sentence = sentence.lower()                                         # convert to lowercase\n",
    "  sentence = sentence.strip()                                         # remove whitespaces\n",
    "  sentence = re.sub(r'[-+]?[0-9]+', '', sentence)                     # remove number\n",
    "  sentence = re.sub(r'https?://\\S+|www\\.\\S+', '', sentence)           # remove URL\n",
    "  sentence = re.sub(r'[^\\w\\s]', '', sentence)                         # remove punctuations\n",
    "  words = word_tokenize(sentence)                                     # tokenize words\n",
    "  words = [w for w in words if w not in stopwords]                    # remove words\n",
    "  emoji_removal = re.compile(\"[\"                                      # remove emoji & symbol\n",
    "      u\"\\U0001F600-\\U0001F64F\"  # emoticons\n",
    "      u\"\\U0001F300-\\U0001F5FF\"  # symbols & pictographs\n",
    "      u\"\\U0001F680-\\U0001F6FF\"  # transport & map symbols\n",
    "      u\"\\U0001F1E0-\\U0001F1FF\"  # flags (iOS)\n",
    "      u\"\\U00002500-\\U00002BEF\"  # chinese char\n",
    "                          \"]+\", flags=re.UNICODE)\n",
    "  words = ' '.join(words)\n",
    "  return emoji_removal.sub(r'', words)"
   ]
  },
  {
   "cell_type": "code",
   "execution_count": 6,
   "id": "b176f34d",
   "metadata": {
    "colab": {
     "base_uri": "https://localhost:8080/",
     "height": 206
    },
    "executionInfo": {
     "elapsed": 652,
     "status": "ok",
     "timestamp": 1661389124487,
     "user": {
      "displayName": "Marrisa Eka Mawarni",
      "userId": "07103622254165130888"
     },
     "user_tz": -420
    },
    "id": "b176f34d",
    "outputId": "06a3a963-3518-4977-8366-a1eb26379b1d"
   },
   "outputs": [
    {
     "data": {
      "text/html": [
       "<div>\n",
       "<style scoped>\n",
       "    .dataframe tbody tr th:only-of-type {\n",
       "        vertical-align: middle;\n",
       "    }\n",
       "\n",
       "    .dataframe tbody tr th {\n",
       "        vertical-align: top;\n",
       "    }\n",
       "\n",
       "    .dataframe thead th {\n",
       "        text-align: right;\n",
       "    }\n",
       "</style>\n",
       "<table border=\"1\" class=\"dataframe\">\n",
       "  <thead>\n",
       "    <tr style=\"text-align: right;\">\n",
       "      <th></th>\n",
       "      <th>No</th>\n",
       "      <th>clean_comment</th>\n",
       "      <th>Comment</th>\n",
       "      <th>Class</th>\n",
       "    </tr>\n",
       "  </thead>\n",
       "  <tbody>\n",
       "    <tr>\n",
       "      <th>0</th>\n",
       "      <td>1</td>\n",
       "      <td>song racist</td>\n",
       "      <td>this song is racist</td>\n",
       "      <td>0</td>\n",
       "    </tr>\n",
       "    <tr>\n",
       "      <th>1</th>\n",
       "      <td>2</td>\n",
       "      <td>many subscribers compared million</td>\n",
       "      <td>and how many subscribers compared to her over ...</td>\n",
       "      <td>1</td>\n",
       "    </tr>\n",
       "    <tr>\n",
       "      <th>2</th>\n",
       "      <td>3</td>\n",
       "      <td>hi check awesome covers say think</td>\n",
       "      <td>HI! CHECK OUT OUR AWESOME COVERS! AND SAY WHAT...</td>\n",
       "      <td>1</td>\n",
       "    </tr>\n",
       "    <tr>\n",
       "      <th>3</th>\n",
       "      <td>4</td>\n",
       "      <td>well done shakira</td>\n",
       "      <td>well done shakira</td>\n",
       "      <td>0</td>\n",
       "    </tr>\n",
       "    <tr>\n",
       "      <th>4</th>\n",
       "      <td>5</td>\n",
       "      <td>subscribe daily vines</td>\n",
       "      <td>:D subscribe to me for daily vines</td>\n",
       "      <td>1</td>\n",
       "    </tr>\n",
       "  </tbody>\n",
       "</table>\n",
       "</div>"
      ],
      "text/plain": [
       "   No                      clean_comment  \\\n",
       "0   1                        song racist   \n",
       "1   2  many subscribers compared million   \n",
       "2   3  hi check awesome covers say think   \n",
       "3   4                  well done shakira   \n",
       "4   5              subscribe daily vines   \n",
       "\n",
       "                                             Comment  Class  \n",
       "0                                this song is racist      0  \n",
       "1  and how many subscribers compared to her over ...      1  \n",
       "2  HI! CHECK OUT OUR AWESOME COVERS! AND SAY WHAT...      1  \n",
       "3                                  well done shakira      0  \n",
       "4                 :D subscribe to me for daily vines      1  "
      ]
     },
     "execution_count": 6,
     "metadata": {},
     "output_type": "execute_result"
    }
   ],
   "source": [
    "clean_comment = df['Comment'].apply(clean_data)\n",
    "df.insert(1,\"clean_comment\", clean_comment)\n",
    "df.head()"
   ]
  },
  {
   "cell_type": "code",
   "execution_count": 7,
   "id": "963691f2",
   "metadata": {
    "colab": {
     "base_uri": "https://localhost:8080/"
    },
    "executionInfo": {
     "elapsed": 9633,
     "status": "ok",
     "timestamp": 1661389035397,
     "user": {
      "displayName": "Marrisa Eka Mawarni",
      "userId": "07103622254165130888"
     },
     "user_tz": -420
    },
    "id": "963691f2",
    "outputId": "5a77843e-07fd-4514-b404-65a43c682912"
   },
   "outputs": [
    {
     "name": "stderr",
     "output_type": "stream",
     "text": [
      "WARNING: Ignoring invalid distribution -rkupsafe (c:\\programdata\\anaconda3\\lib\\site-packages)\n",
      "WARNING: Ignoring invalid distribution -6rkupsafe (c:\\programdata\\anaconda3\\lib\\site-packages)\n",
      "WARNING: Ignoring invalid distribution -5rkupsafe (c:\\programdata\\anaconda3\\lib\\site-packages)\n",
      "WARNING: Ignoring invalid distribution -4rkupsafe (c:\\programdata\\anaconda3\\lib\\site-packages)\n",
      "WARNING: Ignoring invalid distribution -3rkupsafe (c:\\programdata\\anaconda3\\lib\\site-packages)\n",
      "WARNING: Ignoring invalid distribution -2rkupsafe (c:\\programdata\\anaconda3\\lib\\site-packages)\n",
      "WARNING: Ignoring invalid distribution -1rkupsafe (c:\\programdata\\anaconda3\\lib\\site-packages)\n",
      "WARNING: Ignoring invalid distribution -rkupsafe (c:\\programdata\\anaconda3\\lib\\site-packages)\n",
      "WARNING: Ignoring invalid distribution -0rkupsafe (c:\\programdata\\anaconda3\\lib\\site-packages)\n",
      "WARNING: Ignoring invalid distribution -python (c:\\programdata\\anaconda3\\lib\\site-packages)\n",
      "WARNING: Ignoring invalid distribution -lick (c:\\programdata\\anaconda3\\lib\\site-packages)\n",
      "WARNING: Ignoring invalid distribution - (c:\\programdata\\anaconda3\\lib\\site-packages)\n",
      "WARNING: Ignoring invalid distribution -arkupsafe (c:\\programdata\\anaconda3\\lib\\site-packages)\n",
      "WARNING: Ignoring invalid distribution -rkupsafe (c:\\programdata\\anaconda3\\lib\\site-packages)\n",
      "WARNING: Ignoring invalid distribution -6rkupsafe (c:\\programdata\\anaconda3\\lib\\site-packages)\n",
      "WARNING: Ignoring invalid distribution -5rkupsafe (c:\\programdata\\anaconda3\\lib\\site-packages)\n",
      "WARNING: Ignoring invalid distribution -4rkupsafe (c:\\programdata\\anaconda3\\lib\\site-packages)\n",
      "WARNING: Ignoring invalid distribution -3rkupsafe (c:\\programdata\\anaconda3\\lib\\site-packages)\n",
      "WARNING: Ignoring invalid distribution -2rkupsafe (c:\\programdata\\anaconda3\\lib\\site-packages)\n",
      "WARNING: Ignoring invalid distribution -1rkupsafe (c:\\programdata\\anaconda3\\lib\\site-packages)\n",
      "WARNING: Ignoring invalid distribution -rkupsafe (c:\\programdata\\anaconda3\\lib\\site-packages)\n",
      "WARNING: Ignoring invalid distribution -0rkupsafe (c:\\programdata\\anaconda3\\lib\\site-packages)\n",
      "WARNING: Ignoring invalid distribution -python (c:\\programdata\\anaconda3\\lib\\site-packages)\n",
      "WARNING: Ignoring invalid distribution -lick (c:\\programdata\\anaconda3\\lib\\site-packages)\n",
      "WARNING: Ignoring invalid distribution - (c:\\programdata\\anaconda3\\lib\\site-packages)\n",
      "WARNING: Ignoring invalid distribution -arkupsafe (c:\\programdata\\anaconda3\\lib\\site-packages)\n",
      "WARNING: Ignoring invalid distribution -rkupsafe (c:\\programdata\\anaconda3\\lib\\site-packages)\n",
      "WARNING: Ignoring invalid distribution -6rkupsafe (c:\\programdata\\anaconda3\\lib\\site-packages)\n",
      "WARNING: Ignoring invalid distribution -5rkupsafe (c:\\programdata\\anaconda3\\lib\\site-packages)\n",
      "WARNING: Ignoring invalid distribution -4rkupsafe (c:\\programdata\\anaconda3\\lib\\site-packages)\n",
      "WARNING: Ignoring invalid distribution -3rkupsafe (c:\\programdata\\anaconda3\\lib\\site-packages)\n",
      "WARNING: Ignoring invalid distribution -2rkupsafe (c:\\programdata\\anaconda3\\lib\\site-packages)\n",
      "WARNING: Ignoring invalid distribution -1rkupsafe (c:\\programdata\\anaconda3\\lib\\site-packages)\n",
      "WARNING: Ignoring invalid distribution -rkupsafe (c:\\programdata\\anaconda3\\lib\\site-packages)\n",
      "WARNING: Ignoring invalid distribution -0rkupsafe (c:\\programdata\\anaconda3\\lib\\site-packages)\n",
      "WARNING: Ignoring invalid distribution -python (c:\\programdata\\anaconda3\\lib\\site-packages)\n",
      "WARNING: Ignoring invalid distribution -lick (c:\\programdata\\anaconda3\\lib\\site-packages)\n",
      "WARNING: Ignoring invalid distribution - (c:\\programdata\\anaconda3\\lib\\site-packages)\n",
      "WARNING: Ignoring invalid distribution -arkupsafe (c:\\programdata\\anaconda3\\lib\\site-packages)\n",
      "WARNING: Ignoring invalid distribution -rkupsafe (c:\\programdata\\anaconda3\\lib\\site-packages)\n",
      "WARNING: Ignoring invalid distribution -6rkupsafe (c:\\programdata\\anaconda3\\lib\\site-packages)\n",
      "WARNING: Ignoring invalid distribution -5rkupsafe (c:\\programdata\\anaconda3\\lib\\site-packages)\n",
      "WARNING: Ignoring invalid distribution -4rkupsafe (c:\\programdata\\anaconda3\\lib\\site-packages)\n",
      "WARNING: Ignoring invalid distribution -3rkupsafe (c:\\programdata\\anaconda3\\lib\\site-packages)\n",
      "WARNING: Ignoring invalid distribution -2rkupsafe (c:\\programdata\\anaconda3\\lib\\site-packages)\n",
      "WARNING: Ignoring invalid distribution -1rkupsafe (c:\\programdata\\anaconda3\\lib\\site-packages)\n",
      "WARNING: Ignoring invalid distribution -rkupsafe (c:\\programdata\\anaconda3\\lib\\site-packages)\n",
      "WARNING: Ignoring invalid distribution -0rkupsafe (c:\\programdata\\anaconda3\\lib\\site-packages)\n",
      "WARNING: Ignoring invalid distribution -python (c:\\programdata\\anaconda3\\lib\\site-packages)\n",
      "WARNING: Ignoring invalid distribution -lick (c:\\programdata\\anaconda3\\lib\\site-packages)\n",
      "WARNING: Ignoring invalid distribution - (c:\\programdata\\anaconda3\\lib\\site-packages)\n",
      "WARNING: Ignoring invalid distribution -arkupsafe (c:\\programdata\\anaconda3\\lib\\site-packages)\n",
      "WARNING: Ignoring invalid distribution -rkupsafe (c:\\programdata\\anaconda3\\lib\\site-packages)\n",
      "WARNING: Ignoring invalid distribution -6rkupsafe (c:\\programdata\\anaconda3\\lib\\site-packages)\n",
      "WARNING: Ignoring invalid distribution -5rkupsafe (c:\\programdata\\anaconda3\\lib\\site-packages)\n",
      "WARNING: Ignoring invalid distribution -4rkupsafe (c:\\programdata\\anaconda3\\lib\\site-packages)\n",
      "WARNING: Ignoring invalid distribution -3rkupsafe (c:\\programdata\\anaconda3\\lib\\site-packages)\n",
      "WARNING: Ignoring invalid distribution -2rkupsafe (c:\\programdata\\anaconda3\\lib\\site-packages)\n",
      "WARNING: Ignoring invalid distribution -1rkupsafe (c:\\programdata\\anaconda3\\lib\\site-packages)\n",
      "WARNING: Ignoring invalid distribution -rkupsafe (c:\\programdata\\anaconda3\\lib\\site-packages)\n",
      "WARNING: Ignoring invalid distribution -0rkupsafe (c:\\programdata\\anaconda3\\lib\\site-packages)\n",
      "WARNING: Ignoring invalid distribution -python (c:\\programdata\\anaconda3\\lib\\site-packages)\n",
      "WARNING: Ignoring invalid distribution -lick (c:\\programdata\\anaconda3\\lib\\site-packages)\n",
      "WARNING: Ignoring invalid distribution - (c:\\programdata\\anaconda3\\lib\\site-packages)\n",
      "WARNING: Ignoring invalid distribution -arkupsafe (c:\\programdata\\anaconda3\\lib\\site-packages)\n",
      "WARNING: Ignoring invalid distribution -rkupsafe (c:\\programdata\\anaconda3\\lib\\site-packages)\n",
      "WARNING: Ignoring invalid distribution -6rkupsafe (c:\\programdata\\anaconda3\\lib\\site-packages)\n",
      "WARNING: Ignoring invalid distribution -5rkupsafe (c:\\programdata\\anaconda3\\lib\\site-packages)\n",
      "WARNING: Ignoring invalid distribution -4rkupsafe (c:\\programdata\\anaconda3\\lib\\site-packages)\n",
      "WARNING: Ignoring invalid distribution -3rkupsafe (c:\\programdata\\anaconda3\\lib\\site-packages)\n",
      "WARNING: Ignoring invalid distribution -2rkupsafe (c:\\programdata\\anaconda3\\lib\\site-packages)\n",
      "WARNING: Ignoring invalid distribution -1rkupsafe (c:\\programdata\\anaconda3\\lib\\site-packages)\n",
      "WARNING: Ignoring invalid distribution -rkupsafe (c:\\programdata\\anaconda3\\lib\\site-packages)\n",
      "WARNING: Ignoring invalid distribution -0rkupsafe (c:\\programdata\\anaconda3\\lib\\site-packages)\n",
      "WARNING: Ignoring invalid distribution -python (c:\\programdata\\anaconda3\\lib\\site-packages)\n",
      "WARNING: Ignoring invalid distribution -lick (c:\\programdata\\anaconda3\\lib\\site-packages)\n",
      "WARNING: Ignoring invalid distribution - (c:\\programdata\\anaconda3\\lib\\site-packages)\n",
      "WARNING: Ignoring invalid distribution -arkupsafe (c:\\programdata\\anaconda3\\lib\\site-packages)\n"
     ]
    }
   ],
   "source": [
    "!pip install -q jcopml"
   ]
  },
  {
   "cell_type": "code",
   "execution_count": 8,
   "id": "a9efddd7",
   "metadata": {
    "executionInfo": {
     "elapsed": 5,
     "status": "ok",
     "timestamp": 1661389040309,
     "user": {
      "displayName": "Marrisa Eka Mawarni",
      "userId": "07103622254165130888"
     },
     "user_tz": -420
    },
    "id": "a9efddd7"
   },
   "outputs": [],
   "source": [
    "from sklearn.svm import SVC\n",
    "from sklearn.pipeline import Pipeline\n",
    "from sklearn.feature_extraction.text import TfidfVectorizer           \n",
    "from sklearn.model_selection import train_test_split\n",
    "from sklearn.model_selection import KFold\n",
    "from sklearn.model_selection import RandomizedSearchCV\n",
    "from sklearn.metrics import classification_report, confusion_matrix, accuracy_score\n",
    "from sklearn.metrics import classification_report, ConfusionMatrixDisplay\n",
    "\n",
    "from jcopml.pipeline import num_pipe, cat_pipe\n",
    "from jcopml.utils import save_model, load_model\n",
    "from jcopml.feature_importance import mean_score_decrease\n",
    "\n",
    "from jcopml.plot import plot_confusion_matrix\n",
    "from jcopml.plot import plot_roc_curve\n",
    "from jcopml.plot import plot_classification_report\n",
    "from jcopml.plot import plot_pr_curve\n",
    "\n",
    "SEED = 100\n",
    "\n",
    "import warnings\n",
    "warnings.simplefilter(action='ignore')"
   ]
  },
  {
   "cell_type": "markdown",
   "id": "5c47309e",
   "metadata": {
    "id": "5c47309e"
   },
   "source": [
    "### Read Clean Data"
   ]
  },
  {
   "cell_type": "code",
   "execution_count": 9,
   "id": "2bcb6275",
   "metadata": {
    "id": "2bcb6275",
    "outputId": "a9abf650-3571-4427-f7e0-7c605d6efa2a"
   },
   "outputs": [
    {
     "data": {
      "text/html": [
       "<div>\n",
       "<style scoped>\n",
       "    .dataframe tbody tr th:only-of-type {\n",
       "        vertical-align: middle;\n",
       "    }\n",
       "\n",
       "    .dataframe tbody tr th {\n",
       "        vertical-align: top;\n",
       "    }\n",
       "\n",
       "    .dataframe thead th {\n",
       "        text-align: right;\n",
       "    }\n",
       "</style>\n",
       "<table border=\"1\" class=\"dataframe\">\n",
       "  <thead>\n",
       "    <tr style=\"text-align: right;\">\n",
       "      <th></th>\n",
       "      <th>No</th>\n",
       "      <th>clean_comment</th>\n",
       "      <th>Comment</th>\n",
       "      <th>Class</th>\n",
       "    </tr>\n",
       "  </thead>\n",
       "  <tbody>\n",
       "    <tr>\n",
       "      <th>0</th>\n",
       "      <td>1</td>\n",
       "      <td>song racist</td>\n",
       "      <td>this song is racist</td>\n",
       "      <td>0</td>\n",
       "    </tr>\n",
       "    <tr>\n",
       "      <th>1</th>\n",
       "      <td>2</td>\n",
       "      <td>many subscribers compared million</td>\n",
       "      <td>and how many subscribers compared to her over ...</td>\n",
       "      <td>1</td>\n",
       "    </tr>\n",
       "    <tr>\n",
       "      <th>2</th>\n",
       "      <td>3</td>\n",
       "      <td>hi check awesome covers say think</td>\n",
       "      <td>HI! CHECK OUT OUR AWESOME COVERS! AND SAY WHAT...</td>\n",
       "      <td>1</td>\n",
       "    </tr>\n",
       "    <tr>\n",
       "      <th>3</th>\n",
       "      <td>4</td>\n",
       "      <td>well done shakira</td>\n",
       "      <td>well done shakira</td>\n",
       "      <td>0</td>\n",
       "    </tr>\n",
       "    <tr>\n",
       "      <th>4</th>\n",
       "      <td>5</td>\n",
       "      <td>subscribe daily vines</td>\n",
       "      <td>:D subscribe to me for daily vines</td>\n",
       "      <td>1</td>\n",
       "    </tr>\n",
       "  </tbody>\n",
       "</table>\n",
       "</div>"
      ],
      "text/plain": [
       "   No                      clean_comment  \\\n",
       "0   1                        song racist   \n",
       "1   2  many subscribers compared million   \n",
       "2   3  hi check awesome covers say think   \n",
       "3   4                  well done shakira   \n",
       "4   5              subscribe daily vines   \n",
       "\n",
       "                                             Comment  Class  \n",
       "0                                this song is racist      0  \n",
       "1  and how many subscribers compared to her over ...      1  \n",
       "2  HI! CHECK OUT OUR AWESOME COVERS! AND SAY WHAT...      1  \n",
       "3                                  well done shakira      0  \n",
       "4                 :D subscribe to me for daily vines      1  "
      ]
     },
     "execution_count": 9,
     "metadata": {},
     "output_type": "execute_result"
    }
   ],
   "source": [
    "df.head()"
   ]
  },
  {
   "cell_type": "code",
   "execution_count": 10,
   "id": "21778dcb",
   "metadata": {
    "id": "21778dcb",
    "outputId": "cb967728-029a-4fac-9b12-f2f5623bd339"
   },
   "outputs": [
    {
     "data": {
      "text/html": [
       "<div>\n",
       "<style scoped>\n",
       "    .dataframe tbody tr th:only-of-type {\n",
       "        vertical-align: middle;\n",
       "    }\n",
       "\n",
       "    .dataframe tbody tr th {\n",
       "        vertical-align: top;\n",
       "    }\n",
       "\n",
       "    .dataframe thead th {\n",
       "        text-align: right;\n",
       "    }\n",
       "</style>\n",
       "<table border=\"1\" class=\"dataframe\">\n",
       "  <thead>\n",
       "    <tr style=\"text-align: right;\">\n",
       "      <th></th>\n",
       "      <th>clean_comment</th>\n",
       "      <th>Comment</th>\n",
       "      <th>Class</th>\n",
       "    </tr>\n",
       "  </thead>\n",
       "  <tbody>\n",
       "    <tr>\n",
       "      <th>0</th>\n",
       "      <td>song racist</td>\n",
       "      <td>this song is racist</td>\n",
       "      <td>0</td>\n",
       "    </tr>\n",
       "    <tr>\n",
       "      <th>1</th>\n",
       "      <td>many subscribers compared million</td>\n",
       "      <td>and how many subscribers compared to her over ...</td>\n",
       "      <td>1</td>\n",
       "    </tr>\n",
       "    <tr>\n",
       "      <th>2</th>\n",
       "      <td>hi check awesome covers say think</td>\n",
       "      <td>HI! CHECK OUT OUR AWESOME COVERS! AND SAY WHAT...</td>\n",
       "      <td>1</td>\n",
       "    </tr>\n",
       "    <tr>\n",
       "      <th>3</th>\n",
       "      <td>well done shakira</td>\n",
       "      <td>well done shakira</td>\n",
       "      <td>0</td>\n",
       "    </tr>\n",
       "    <tr>\n",
       "      <th>4</th>\n",
       "      <td>subscribe daily vines</td>\n",
       "      <td>:D subscribe to me for daily vines</td>\n",
       "      <td>1</td>\n",
       "    </tr>\n",
       "  </tbody>\n",
       "</table>\n",
       "</div>"
      ],
      "text/plain": [
       "                       clean_comment  \\\n",
       "0                        song racist   \n",
       "1  many subscribers compared million   \n",
       "2  hi check awesome covers say think   \n",
       "3                  well done shakira   \n",
       "4              subscribe daily vines   \n",
       "\n",
       "                                             Comment  Class  \n",
       "0                                this song is racist      0  \n",
       "1  and how many subscribers compared to her over ...      1  \n",
       "2  HI! CHECK OUT OUR AWESOME COVERS! AND SAY WHAT...      1  \n",
       "3                                  well done shakira      0  \n",
       "4                 :D subscribe to me for daily vines      1  "
      ]
     },
     "execution_count": 10,
     "metadata": {},
     "output_type": "execute_result"
    }
   ],
   "source": [
    "df.drop('No', axis = 1, inplace = True)\n",
    "df.head()"
   ]
  },
  {
   "cell_type": "code",
   "execution_count": 11,
   "id": "990a8cf4",
   "metadata": {
    "colab": {
     "base_uri": "https://localhost:8080/"
    },
    "executionInfo": {
     "elapsed": 516,
     "status": "ok",
     "timestamp": 1661389162559,
     "user": {
      "displayName": "Marrisa Eka Mawarni",
      "userId": "07103622254165130888"
     },
     "user_tz": -420
    },
    "id": "990a8cf4",
    "outputId": "44548892-5592-4a81-bc69-6d918a412e2c"
   },
   "outputs": [
    {
     "data": {
      "text/plain": [
       "clean_comment    0\n",
       "Comment          0\n",
       "Class            0\n",
       "dtype: int64"
      ]
     },
     "execution_count": 11,
     "metadata": {},
     "output_type": "execute_result"
    }
   ],
   "source": [
    "df.isnull().sum()"
   ]
  },
  {
   "cell_type": "markdown",
   "id": "4b35f6f2",
   "metadata": {
    "id": "4b35f6f2"
   },
   "source": [
    "### Split Data Train Test"
   ]
  },
  {
   "cell_type": "code",
   "execution_count": 12,
   "id": "75fea2da",
   "metadata": {
    "colab": {
     "base_uri": "https://localhost:8080/"
    },
    "executionInfo": {
     "elapsed": 538,
     "status": "ok",
     "timestamp": 1661390192727,
     "user": {
      "displayName": "Marrisa Eka Mawarni",
      "userId": "07103622254165130888"
     },
     "user_tz": -420
    },
    "id": "75fea2da",
    "outputId": "1badbae4-0270-4958-d768-55a5fcec8eda"
   },
   "outputs": [
    {
     "data": {
      "text/plain": [
       "((1040,), (260,), (1040,), (260,))"
      ]
     },
     "execution_count": 12,
     "metadata": {},
     "output_type": "execute_result"
    }
   ],
   "source": [
    "X = df['clean_comment']\n",
    "y = df['Class']\n",
    "\n",
    "X_train, X_test, y_train, y_test = train_test_split(X, y, test_size=0.2, random_state=27)\n",
    "\n",
    "X_train.shape, X_test.shape, y_train.shape, y_test.shape"
   ]
  },
  {
   "cell_type": "markdown",
   "id": "62d0df2e",
   "metadata": {
    "id": "62d0df2e"
   },
   "source": [
    "### Text representation: TF-IDF"
   ]
  },
  {
   "cell_type": "code",
   "execution_count": 13,
   "id": "64192aad",
   "metadata": {
    "colab": {
     "base_uri": "https://localhost:8080/"
    },
    "executionInfo": {
     "elapsed": 518,
     "status": "ok",
     "timestamp": 1661390196702,
     "user": {
      "displayName": "Marrisa Eka Mawarni",
      "userId": "07103622254165130888"
     },
     "user_tz": -420
    },
    "id": "64192aad",
    "outputId": "22ae8edd-425c-44bf-d7c2-32deb753087e"
   },
   "outputs": [
    {
     "data": {
      "text/plain": [
       "((1040, 7527), (260, 7527))"
      ]
     },
     "execution_count": 13,
     "metadata": {},
     "output_type": "execute_result"
    }
   ],
   "source": [
    "N_GRAM = (1,2)  # uni-gram + bi-g\n",
    "\n",
    "tfidf = TfidfVectorizer(ngram_range=N_GRAM)\n",
    "                        \n",
    "X_train_tfidf = tfidf.fit_transform(X_train).toarray()\n",
    "X_test_tfidf = tfidf.transform(X_test).toarray()\n",
    "\n",
    "X_train_tfidf.shape, X_test_tfidf.shape"
   ]
  },
  {
   "cell_type": "markdown",
   "id": "9876fcfe",
   "metadata": {
    "id": "9876fcfe"
   },
   "source": [
    "### Modelling"
   ]
  },
  {
   "cell_type": "code",
   "execution_count": 14,
   "id": "d1a29848",
   "metadata": {
    "colab": {
     "base_uri": "https://localhost:8080/"
    },
    "executionInfo": {
     "elapsed": 14239,
     "status": "ok",
     "timestamp": 1661390217301,
     "user": {
      "displayName": "Marrisa Eka Mawarni",
      "userId": "07103622254165130888"
     },
     "user_tz": -420
    },
    "id": "d1a29848",
    "outputId": "f833f1a5-edc9-45e6-bf03-77808f25975a"
   },
   "outputs": [
    {
     "name": "stdout",
     "output_type": "stream",
     "text": [
      "accuracy on training set: 0.9913461538461539\n"
     ]
    }
   ],
   "source": [
    "svm = SVC()                         \n",
    "svm.fit(X_train_tfidf, y_train)     \n",
    "\n",
    "accuracy = accuracy_score(y_train, svm.predict(X_train_tfidf))\n",
    "\n",
    "print(f'accuracy on training set: {accuracy}')"
   ]
  },
  {
   "cell_type": "code",
   "execution_count": 15,
   "id": "3265504f",
   "metadata": {
    "colab": {
     "base_uri": "https://localhost:8080/"
    },
    "executionInfo": {
     "elapsed": 4171,
     "status": "ok",
     "timestamp": 1661390126170,
     "user": {
      "displayName": "Marrisa Eka Mawarni",
      "userId": "07103622254165130888"
     },
     "user_tz": -420
    },
    "id": "3265504f",
    "outputId": "30d13552-f852-4c6b-be03-65f3070556e9"
   },
   "outputs": [
    {
     "name": "stdout",
     "output_type": "stream",
     "text": [
      "accuracy on testing set: 0.9192307692307692\n"
     ]
    }
   ],
   "source": [
    "svm_predict = svm.predict(X_test_tfidf) # SVM predict on testing set\n",
    "accuracy_test = accuracy_score(y_test, svm_predict)\n",
    "\n",
    "print(f'accuracy on testing set: {accuracy_test}')"
   ]
  },
  {
   "cell_type": "markdown",
   "id": "28eb18e0",
   "metadata": {
    "id": "28eb18e0"
   },
   "source": [
    "### Hyperparameter Tuning"
   ]
  },
  {
   "cell_type": "code",
   "execution_count": 16,
   "id": "fa39830f",
   "metadata": {
    "executionInfo": {
     "elapsed": 619,
     "status": "ok",
     "timestamp": 1661390142138,
     "user": {
      "displayName": "Marrisa Eka Mawarni",
      "userId": "07103622254165130888"
     },
     "user_tz": -420
    },
    "id": "fa39830f"
   },
   "outputs": [],
   "source": [
    "# Define pipeline\n",
    "PIPELINE = Pipeline([\n",
    "  ('tf-idf', TfidfVectorizer(ngram_range=N_GRAM)),   # Feature extraction: TF-IDF\n",
    "  ('svm', SVC(probability=True, random_state=100))  # Algoritm: SVM\n",
    "])"
   ]
  },
  {
   "cell_type": "code",
   "execution_count": 17,
   "id": "29c00183",
   "metadata": {
    "id": "29c00183"
   },
   "outputs": [],
   "source": [
    "# Define parameter range\n",
    "PARAM_GRID = {'svm__C': [0.1, 1, 10, 100, 1000],\n",
    "              'svm__gamma': [1, 0.1, 0.01, 0.001, 0.0001],\n",
    "              'svm__kernel': ['rbf', 'linaer', 'poly']}"
   ]
  },
  {
   "cell_type": "code",
   "execution_count": 18,
   "id": "6831e71d",
   "metadata": {
    "id": "6831e71d"
   },
   "outputs": [],
   "source": [
    "# Define cross-validation\n",
    "KFOLD = KFold(n_splits=10)"
   ]
  },
  {
   "cell_type": "code",
   "execution_count": 19,
   "id": "8c1f7182",
   "metadata": {
    "id": "8c1f7182"
   },
   "outputs": [],
   "source": [
    "model = RandomizedSearchCV(PIPELINE, PARAM_GRID, cv=KFOLD, n_iter=50, n_jobs=-1, verbose=1, random_state=100)"
   ]
  },
  {
   "cell_type": "code",
   "execution_count": 20,
   "id": "8ef2f906",
   "metadata": {
    "id": "8ef2f906",
    "outputId": "ccf7f9d9-b0a2-4c83-85c4-35e403a4fc8f"
   },
   "outputs": [
    {
     "name": "stdout",
     "output_type": "stream",
     "text": [
      "Fitting 10 folds for each of 50 candidates, totalling 500 fits\n"
     ]
    },
    {
     "name": "stderr",
     "output_type": "stream",
     "text": [
      "[Parallel(n_jobs=-1)]: Using backend LokyBackend with 8 concurrent workers.\n",
      "[Parallel(n_jobs=-1)]: Done  34 tasks      | elapsed:    8.7s\n",
      "[Parallel(n_jobs=-1)]: Done 184 tasks      | elapsed:   17.9s\n",
      "[Parallel(n_jobs=-1)]: Done 434 tasks      | elapsed:   42.2s\n",
      "[Parallel(n_jobs=-1)]: Done 500 out of 500 | elapsed:   46.7s finished\n"
     ]
    },
    {
     "data": {
      "text/plain": [
       "RandomizedSearchCV(cv=KFold(n_splits=10, random_state=None, shuffle=False),\n",
       "                   estimator=Pipeline(steps=[('tf-idf',\n",
       "                                              TfidfVectorizer(ngram_range=(1,\n",
       "                                                                           2))),\n",
       "                                             ('svm',\n",
       "                                              SVC(probability=True,\n",
       "                                                  random_state=100))]),\n",
       "                   n_iter=50, n_jobs=-1,\n",
       "                   param_distributions={'svm__C': [0.1, 1, 10, 100, 1000],\n",
       "                                        'svm__gamma': [1, 0.1, 0.01, 0.001,\n",
       "                                                       0.0001],\n",
       "                                        'svm__kernel': ['rbf', 'linaer',\n",
       "                                                        'poly']},\n",
       "                   random_state=100, verbose=1)"
      ]
     },
     "execution_count": 20,
     "metadata": {},
     "output_type": "execute_result"
    }
   ],
   "source": [
    "model.fit(X_train, y_train)"
   ]
  },
  {
   "cell_type": "code",
   "execution_count": 21,
   "id": "ef57b48a",
   "metadata": {
    "id": "ef57b48a",
    "outputId": "5bed0635-73d0-4007-fc6e-9e02a515ccf1"
   },
   "outputs": [
    {
     "name": "stdout",
     "output_type": "stream",
     "text": [
      "Best parameter  : {'svm__kernel': 'rbf', 'svm__gamma': 0.001, 'svm__C': 1000}\n",
      "Best score      : 0.9134615384615385\n",
      "Train score     : 0.9769230769230769\n",
      "Test score      : 0.9307692307692308\n"
     ]
    }
   ],
   "source": [
    "best_params = model.best_params_\n",
    "best_score  = model.best_score_\n",
    "train_score = model.score(X_train, y_train)\n",
    "test_score  = model.score(X_test, y_test)\n",
    "\n",
    "print(f'Best parameter  : {best_params}')\n",
    "print(f'Best score      : {best_score}')\n",
    "print(f'Train score     : {train_score}')\n",
    "print(f'Test score      : {test_score}')"
   ]
  },
  {
   "cell_type": "markdown",
   "id": "38c43c19",
   "metadata": {
    "id": "38c43c19"
   },
   "source": [
    "### Evaluation"
   ]
  },
  {
   "cell_type": "code",
   "execution_count": 22,
   "id": "064c8e92",
   "metadata": {
    "id": "064c8e92",
    "outputId": "122f856e-0b00-47e1-b7ec-7dcd5accd812"
   },
   "outputs": [
    {
     "name": "stdout",
     "output_type": "stream",
     "text": [
      "Train report\n",
      "              precision    recall  f1-score   support\n",
      "\n",
      "           0       0.96      1.00      0.98       509\n",
      "           1       1.00      0.96      0.98       531\n",
      "\n",
      "    accuracy                           0.98      1040\n",
      "   macro avg       0.98      0.98      0.98      1040\n",
      "weighted avg       0.98      0.98      0.98      1040\n",
      "\n",
      "\n",
      "Test report\n",
      "              precision    recall  f1-score   support\n",
      "\n",
      "           0       0.90      0.96      0.93       122\n",
      "           1       0.96      0.91      0.93       138\n",
      "\n",
      "    accuracy                           0.93       260\n",
      "   macro avg       0.93      0.93      0.93       260\n",
      "weighted avg       0.93      0.93      0.93       260\n",
      "\n"
     ]
    }
   ],
   "source": [
    "plot_classification_report(X_train, y_train, X_test, y_test, model, report=True)"
   ]
  },
  {
   "cell_type": "markdown",
   "id": "601f1ae6",
   "metadata": {
    "id": "601f1ae6"
   },
   "source": [
    "### Result on Test"
   ]
  },
  {
   "cell_type": "code",
   "execution_count": 23,
   "id": "70d8761b",
   "metadata": {
    "id": "70d8761b",
    "outputId": "52013a57-3baf-4b56-9a43-0328fb88593a",
    "scrolled": true
   },
   "outputs": [
    {
     "data": {
      "text/html": [
       "<div>\n",
       "<style scoped>\n",
       "    .dataframe tbody tr th:only-of-type {\n",
       "        vertical-align: middle;\n",
       "    }\n",
       "\n",
       "    .dataframe tbody tr th {\n",
       "        vertical-align: top;\n",
       "    }\n",
       "\n",
       "    .dataframe thead th {\n",
       "        text-align: right;\n",
       "    }\n",
       "</style>\n",
       "<table border=\"1\" class=\"dataframe\">\n",
       "  <thead>\n",
       "    <tr style=\"text-align: right;\">\n",
       "      <th></th>\n",
       "      <th>clean_comment</th>\n",
       "      <th>actual</th>\n",
       "      <th>prediction</th>\n",
       "    </tr>\n",
       "  </thead>\n",
       "  <tbody>\n",
       "    <tr>\n",
       "      <th>310</th>\n",
       "      <td>subscribe pls eminem fans</td>\n",
       "      <td>1</td>\n",
       "      <td>1</td>\n",
       "    </tr>\n",
       "    <tr>\n",
       "      <th>202</th>\n",
       "      <td>hey guys ignore please give chance name yuliya...</td>\n",
       "      <td>1</td>\n",
       "      <td>1</td>\n",
       "    </tr>\n",
       "    <tr>\n",
       "      <th>1072</th>\n",
       "      <td>ima rapper trying get notice please check mixt...</td>\n",
       "      <td>1</td>\n",
       "      <td>1</td>\n",
       "    </tr>\n",
       "    <tr>\n",
       "      <th>1236</th>\n",
       "      <td>love</td>\n",
       "      <td>0</td>\n",
       "      <td>0</td>\n",
       "    </tr>\n",
       "    <tr>\n",
       "      <th>1210</th>\n",
       "      <td>goot</td>\n",
       "      <td>0</td>\n",
       "      <td>0</td>\n",
       "    </tr>\n",
       "    <tr>\n",
       "      <th>655</th>\n",
       "      <td>check video youtube</td>\n",
       "      <td>1</td>\n",
       "      <td>1</td>\n",
       "    </tr>\n",
       "    <tr>\n",
       "      <th>229</th>\n",
       "      <td>check berzerk video channel</td>\n",
       "      <td>1</td>\n",
       "      <td>1</td>\n",
       "    </tr>\n",
       "    <tr>\n",
       "      <th>364</th>\n",
       "      <td></td>\n",
       "      <td>1</td>\n",
       "      <td>0</td>\n",
       "    </tr>\n",
       "    <tr>\n",
       "      <th>386</th>\n",
       "      <td>check video youtube</td>\n",
       "      <td>1</td>\n",
       "      <td>1</td>\n",
       "    </tr>\n",
       "    <tr>\n",
       "      <th>556</th>\n",
       "      <td>please buy new christmas shirts buy time decem...</td>\n",
       "      <td>1</td>\n",
       "      <td>1</td>\n",
       "    </tr>\n",
       "    <tr>\n",
       "      <th>1292</th>\n",
       "      <td>shuffle</td>\n",
       "      <td>0</td>\n",
       "      <td>0</td>\n",
       "    </tr>\n",
       "    <tr>\n",
       "      <th>665</th>\n",
       "      <td>thank katyperryvevo instagram likes axeljonssons</td>\n",
       "      <td>1</td>\n",
       "      <td>1</td>\n",
       "    </tr>\n",
       "    <tr>\n",
       "      <th>980</th>\n",
       "      <td>dont see comments mine</td>\n",
       "      <td>0</td>\n",
       "      <td>0</td>\n",
       "    </tr>\n",
       "    <tr>\n",
       "      <th>781</th>\n",
       "      <td>check video youtubebr br eminem amazing</td>\n",
       "      <td>1</td>\n",
       "      <td>1</td>\n",
       "    </tr>\n",
       "    <tr>\n",
       "      <th>580</th>\n",
       "      <td>like comment ur watching</td>\n",
       "      <td>1</td>\n",
       "      <td>1</td>\n",
       "    </tr>\n",
       "    <tr>\n",
       "      <th>456</th>\n",
       "      <td>check video youtube</td>\n",
       "      <td>1</td>\n",
       "      <td>1</td>\n",
       "    </tr>\n",
       "    <tr>\n",
       "      <th>329</th>\n",
       "      <td>hahahahah like vines subscribe daily vines</td>\n",
       "      <td>1</td>\n",
       "      <td>1</td>\n",
       "    </tr>\n",
       "    <tr>\n",
       "      <th>923</th>\n",
       "      <td>aunt love song</td>\n",
       "      <td>0</td>\n",
       "      <td>0</td>\n",
       "    </tr>\n",
       "    <tr>\n",
       "      <th>445</th>\n",
       "      <td>viewed youtube video time</td>\n",
       "      <td>0</td>\n",
       "      <td>0</td>\n",
       "    </tr>\n",
       "    <tr>\n",
       "      <th>1119</th>\n",
       "      <td>party rock xd</td>\n",
       "      <td>0</td>\n",
       "      <td>0</td>\n",
       "    </tr>\n",
       "  </tbody>\n",
       "</table>\n",
       "</div>"
      ],
      "text/plain": [
       "                                          clean_comment  actual  prediction\n",
       "310                           subscribe pls eminem fans       1           1\n",
       "202   hey guys ignore please give chance name yuliya...       1           1\n",
       "1072  ima rapper trying get notice please check mixt...       1           1\n",
       "1236                                               love       0           0\n",
       "1210                                               goot       0           0\n",
       "655                                 check video youtube       1           1\n",
       "229                         check berzerk video channel       1           1\n",
       "364                                                           1           0\n",
       "386                                 check video youtube       1           1\n",
       "556   please buy new christmas shirts buy time decem...       1           1\n",
       "1292                                            shuffle       0           0\n",
       "665    thank katyperryvevo instagram likes axeljonssons       1           1\n",
       "980                              dont see comments mine       0           0\n",
       "781             check video youtubebr br eminem amazing       1           1\n",
       "580                            like comment ur watching       1           1\n",
       "456                                 check video youtube       1           1\n",
       "329          hahahahah like vines subscribe daily vines       1           1\n",
       "923                                      aunt love song       0           0\n",
       "445                           viewed youtube video time       0           0\n",
       "1119                                      party rock xd       0           0"
      ]
     },
     "execution_count": 23,
     "metadata": {},
     "output_type": "execute_result"
    }
   ],
   "source": [
    "df_test = pd.DataFrame(X_test)\n",
    "df_test['actual'] = y_test\n",
    "df_test['prediction'] = model.predict(X_test)\n",
    "\n",
    "df_test.head(20)"
   ]
  },
  {
   "cell_type": "markdown",
   "id": "7bf8eb18",
   "metadata": {},
   "source": [
    "### Predict Text"
   ]
  },
  {
   "cell_type": "code",
   "execution_count": 24,
   "id": "31e0a34f",
   "metadata": {},
   "outputs": [
    {
     "name": "stdout",
     "output_type": "stream",
     "text": [
      "Enter your text:  check video youtube\n",
      "check video youtube\n",
      "[1]\n"
     ]
    }
   ],
   "source": [
    "text = input (\"Enter your text:  \")\n",
    "print(text)\n",
    "txt = [text]\n",
    "print(model.predict(txt))"
   ]
  }
 ],
 "metadata": {
  "colab": {
   "name": "Mochammad Arie Nugroho_Day2_Tugas2.ipynb",
   "provenance": []
  },
  "kernelspec": {
   "display_name": "Python 3 (ipykernel)",
   "language": "python",
   "name": "python3"
  },
  "language_info": {
   "codemirror_mode": {
    "name": "ipython",
    "version": 3
   },
   "file_extension": ".py",
   "mimetype": "text/x-python",
   "name": "python",
   "nbconvert_exporter": "python",
   "pygments_lexer": "ipython3",
   "version": "3.8.12"
  }
 },
 "nbformat": 4,
 "nbformat_minor": 5
}
